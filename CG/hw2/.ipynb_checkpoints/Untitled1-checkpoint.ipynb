{
 "metadata": {
  "name": "",
  "signature": "sha256:a873d98199f9524b59bcdd1476d0460abc52a8b7857acab709c5aa96547eeee9"
 },
 "nbformat": 3,
 "nbformat_minor": 0,
 "worksheets": []
}
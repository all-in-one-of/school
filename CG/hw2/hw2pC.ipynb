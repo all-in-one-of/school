{
 "metadata": {
  "name": "",
  "signature": "sha256:2ff47dde8bda2a6902f83417eef70aed33a768c3a13190f8cac59a23f0b52a8f"
 },
 "nbformat": 3,
 "nbformat_minor": 0,
 "worksheets": [
  {
   "cells": [
    {
     "cell_type": "code",
     "collapsed": false,
     "input": [
      "%matplotlib inline\n",
      "from IPython.display import Image\n",
      "import skdemo\n",
      "import matplotlib.pyplot as plt\n",
      "import numpy as np\n",
      "from skimage import io\n",
      "import skimage.filter as filters\n",
      "from scipy.ndimage import convolve\n",
      "from skimage import img_as_float\n",
      "leaf = io.imread('leaf.jpg')\n",
      "r = io.imread('bubbles.jpg')"
     ],
     "language": "python",
     "metadata": {},
     "outputs": [],
     "prompt_number": 1
    },
    {
     "cell_type": "code",
     "collapsed": false,
     "input": [
      "#Soble is an edge detection operation\n",
      "#It did a pretty good job detecting edges of my images\n",
      "#As I was passing 3D array iimages, I had to convert them to b&w\n",
      "#before processing.\n",
      "#I had to pixelate the image and then apply the sobel algorithm itself\n",
      "def sobel(image, px):\n",
      "    img = skimage.color.rgb2grey(image)\n",
      "    \n",
      "    pixelated = img[::px, ::px]\n",
      "    pixelated = skimage.img_as_float(pixelated)\n",
      "    pixelated_gradient = filters.sobel(pixelated)\n",
      "    skdemo.imshow_all(pixelated, pixelated_gradient)\n",
      "\n",
      "sobel(leaf, 10)\n",
      "sobel(r, 2)\n",
      "\n",
      "\n"
     ],
     "language": "python",
     "metadata": {},
     "outputs": [
      {
       "ename": "NameError",
       "evalue": "global name 'skimage' is not defined",
       "output_type": "pyerr",
       "traceback": [
        "\u001b[0;31m---------------------------------------------------------------------------\u001b[0m\n\u001b[0;31mNameError\u001b[0m                                 Traceback (most recent call last)",
        "\u001b[0;32m<ipython-input-2-2cacac0d52d7>\u001b[0m in \u001b[0;36m<module>\u001b[0;34m()\u001b[0m\n\u001b[1;32m     12\u001b[0m     \u001b[0mskdemo\u001b[0m\u001b[0;34m.\u001b[0m\u001b[0mimshow_all\u001b[0m\u001b[0;34m(\u001b[0m\u001b[0mpixelated\u001b[0m\u001b[0;34m,\u001b[0m \u001b[0mpixelated_gradient\u001b[0m\u001b[0;34m)\u001b[0m\u001b[0;34m\u001b[0m\u001b[0m\n\u001b[1;32m     13\u001b[0m \u001b[0;34m\u001b[0m\u001b[0m\n\u001b[0;32m---> 14\u001b[0;31m \u001b[0msobel\u001b[0m\u001b[0;34m(\u001b[0m\u001b[0mleaf\u001b[0m\u001b[0;34m,\u001b[0m \u001b[0;36m10\u001b[0m\u001b[0;34m)\u001b[0m\u001b[0;34m\u001b[0m\u001b[0m\n\u001b[0m\u001b[1;32m     15\u001b[0m \u001b[0msobel\u001b[0m\u001b[0;34m(\u001b[0m\u001b[0mr\u001b[0m\u001b[0;34m,\u001b[0m \u001b[0;36m2\u001b[0m\u001b[0;34m)\u001b[0m\u001b[0;34m\u001b[0m\u001b[0m\n\u001b[1;32m     16\u001b[0m \u001b[0;34m\u001b[0m\u001b[0m\n",
        "\u001b[0;32m<ipython-input-2-2cacac0d52d7>\u001b[0m in \u001b[0;36msobel\u001b[0;34m(image, px)\u001b[0m\n\u001b[1;32m      5\u001b[0m \u001b[0;31m#I had to pixelate the image and then apply the sobel algorithm itself\u001b[0m\u001b[0;34m\u001b[0m\u001b[0;34m\u001b[0m\u001b[0m\n\u001b[1;32m      6\u001b[0m \u001b[0;32mdef\u001b[0m \u001b[0msobel\u001b[0m\u001b[0;34m(\u001b[0m\u001b[0mimage\u001b[0m\u001b[0;34m,\u001b[0m \u001b[0mpx\u001b[0m\u001b[0;34m)\u001b[0m\u001b[0;34m:\u001b[0m\u001b[0;34m\u001b[0m\u001b[0m\n\u001b[0;32m----> 7\u001b[0;31m     \u001b[0mimg\u001b[0m \u001b[0;34m=\u001b[0m \u001b[0mskimage\u001b[0m\u001b[0;34m.\u001b[0m\u001b[0mcolor\u001b[0m\u001b[0;34m.\u001b[0m\u001b[0mrgb2grey\u001b[0m\u001b[0;34m(\u001b[0m\u001b[0mimage\u001b[0m\u001b[0;34m)\u001b[0m\u001b[0;34m\u001b[0m\u001b[0m\n\u001b[0m\u001b[1;32m      8\u001b[0m \u001b[0;34m\u001b[0m\u001b[0m\n\u001b[1;32m      9\u001b[0m     \u001b[0mpixelated\u001b[0m \u001b[0;34m=\u001b[0m \u001b[0mimg\u001b[0m\u001b[0;34m[\u001b[0m\u001b[0;34m:\u001b[0m\u001b[0;34m:\u001b[0m\u001b[0mpx\u001b[0m\u001b[0;34m,\u001b[0m \u001b[0;34m:\u001b[0m\u001b[0;34m:\u001b[0m\u001b[0mpx\u001b[0m\u001b[0;34m]\u001b[0m\u001b[0;34m\u001b[0m\u001b[0m\n",
        "\u001b[0;31mNameError\u001b[0m: global name 'skimage' is not defined"
       ]
      }
     ],
     "prompt_number": 2
    },
    {
     "cell_type": "code",
     "collapsed": false,
     "input": [
      "#Canny is an edge detection operation\n",
      "#It has 4 steps: gaussian blur, gradient operation, non-maximum\n",
      "#supression and hysteresis thresholding\n",
      "#comparing to sobel, canny creates thiner edges, however if the image has a lot of noise,\n",
      "#the edges will not be clear (example: leaf)\n",
      "def canny(img):\n",
      "    image = skimage.color.rgb2gray(img)\n",
      "    edges = filters.canny(image, sigma=3)\n",
      "    plt.imshow(edges)\n",
      "    plt.show()\n",
      "canny(r)\n",
      "canny(leaf)"
     ],
     "language": "python",
     "metadata": {},
     "outputs": []
    },
    {
     "cell_type": "code",
     "collapsed": false,
     "input": [
      "#Hough operation is used to identify shapes\n",
      "#in my example, I tried to find cirles with radius [1, 100] in my pictures\n",
      "#for pictures that doesnt contain much circles (example: leaf)\n",
      "#this algorithm is not efficient\n",
      "from skimage.transform import hough_circle\n",
      "def h(img):\n",
      "    image = skimage.color.rgb2gray(img)\n",
      "    edges = filters.canny(image, sigma=2.5)\n",
      "    hough_radii = np.arange(10, 100, 1)\n",
      "    hough_response = hough_circle(edges, hough_radii)\n",
      "    print edges.shape,\n",
      "    print hough_response.shape\n",
      "    \n",
      "    # Use max value to intelligently rescale the data for plotting.\n",
      "    h_max = hough_response.max()\n",
      "\n",
      "\n",
      "    # Use `plt.title` to add a meaningful title for each index.\n",
      "    plt.imshow(hough_response[4, :, :], vmax=h_max*0.5)\n",
      "    plt.show()\n",
      "\n",
      "h(r)\n",
      "h(leaf)\n"
     ],
     "language": "python",
     "metadata": {},
     "outputs": []
    },
    {
     "cell_type": "code",
     "collapsed": false,
     "input": [
      "#Here I'm trying to detect centers of my circles\n",
      "from skimage.feature import peak_local_max\n",
      "def find_centers(img):\n",
      "    image = skimage.color.rgb2gray(img)\n",
      "    edges = filters.canny(image, sigma=2.5)\n",
      "    hough_radii = np.arange(10, 100, 1)\n",
      "    hough_response = hough_circle(edges, hough_radii)\n",
      "    \n",
      "    centers = []\n",
      "    likelihood = []\n",
      "\n",
      "    for h in hough_response:\n",
      "        peaks = peak_local_max(h)\n",
      "        centers.extend(peaks)\n",
      "        likelihood.extend(h[peaks[:, 0], peaks[:, 1]])\n",
      "\n",
      "    for i in np.argsort(likelihood)[-3:]:\n",
      "        row, column = centers[i]\n",
      "        plt.plot(column, row, 'ro')\n",
      "        plt.imshow(image)\n",
      "#Calling find_centers on r and leaf images (uncomment each one)\n",
      "find_centers(r)\n",
      "\n",
      "#find_centers(leaf)\n"
     ],
     "language": "python",
     "metadata": {},
     "outputs": [
      {
       "ename": "NameError",
       "evalue": "global name 'skimage' is not defined",
       "output_type": "pyerr",
       "traceback": [
        "\u001b[0;31m---------------------------------------------------------------------------\u001b[0m\n\u001b[0;31mNameError\u001b[0m                                 Traceback (most recent call last)",
        "\u001b[0;32m<ipython-input-3-a0ff7f773c0b>\u001b[0m in \u001b[0;36m<module>\u001b[0;34m()\u001b[0m\n\u001b[1;32m     20\u001b[0m         \u001b[0mplt\u001b[0m\u001b[0;34m.\u001b[0m\u001b[0mimshow\u001b[0m\u001b[0;34m(\u001b[0m\u001b[0mimage\u001b[0m\u001b[0;34m)\u001b[0m\u001b[0;34m\u001b[0m\u001b[0m\n\u001b[1;32m     21\u001b[0m \u001b[0;31m#Calling find_centers on r and leaf images (uncomment each one)\u001b[0m\u001b[0;34m\u001b[0m\u001b[0;34m\u001b[0m\u001b[0m\n\u001b[0;32m---> 22\u001b[0;31m \u001b[0mfind_centers\u001b[0m\u001b[0;34m(\u001b[0m\u001b[0mr\u001b[0m\u001b[0;34m)\u001b[0m\u001b[0;34m\u001b[0m\u001b[0m\n\u001b[0m\u001b[1;32m     23\u001b[0m \u001b[0;34m\u001b[0m\u001b[0m\n\u001b[1;32m     24\u001b[0m \u001b[0;31m#find_centers(leaf)\u001b[0m\u001b[0;34m\u001b[0m\u001b[0;34m\u001b[0m\u001b[0m\n",
        "\u001b[0;32m<ipython-input-3-a0ff7f773c0b>\u001b[0m in \u001b[0;36mfind_centers\u001b[0;34m(img)\u001b[0m\n\u001b[1;32m      2\u001b[0m \u001b[0;32mfrom\u001b[0m \u001b[0mskimage\u001b[0m\u001b[0;34m.\u001b[0m\u001b[0mfeature\u001b[0m \u001b[0;32mimport\u001b[0m \u001b[0mpeak_local_max\u001b[0m\u001b[0;34m\u001b[0m\u001b[0m\n\u001b[1;32m      3\u001b[0m \u001b[0;32mdef\u001b[0m \u001b[0mfind_centers\u001b[0m\u001b[0;34m(\u001b[0m\u001b[0mimg\u001b[0m\u001b[0;34m)\u001b[0m\u001b[0;34m:\u001b[0m\u001b[0;34m\u001b[0m\u001b[0m\n\u001b[0;32m----> 4\u001b[0;31m     \u001b[0mimage\u001b[0m \u001b[0;34m=\u001b[0m \u001b[0mskimage\u001b[0m\u001b[0;34m.\u001b[0m\u001b[0mcolor\u001b[0m\u001b[0;34m.\u001b[0m\u001b[0mrgb2gray\u001b[0m\u001b[0;34m(\u001b[0m\u001b[0mimg\u001b[0m\u001b[0;34m)\u001b[0m\u001b[0;34m\u001b[0m\u001b[0m\n\u001b[0m\u001b[1;32m      5\u001b[0m     \u001b[0medges\u001b[0m \u001b[0;34m=\u001b[0m \u001b[0mfilters\u001b[0m\u001b[0;34m.\u001b[0m\u001b[0mcanny\u001b[0m\u001b[0;34m(\u001b[0m\u001b[0mimage\u001b[0m\u001b[0;34m,\u001b[0m \u001b[0msigma\u001b[0m\u001b[0;34m=\u001b[0m\u001b[0;36m2.5\u001b[0m\u001b[0;34m)\u001b[0m\u001b[0;34m\u001b[0m\u001b[0m\n\u001b[1;32m      6\u001b[0m     \u001b[0mhough_radii\u001b[0m \u001b[0;34m=\u001b[0m \u001b[0mnp\u001b[0m\u001b[0;34m.\u001b[0m\u001b[0marange\u001b[0m\u001b[0;34m(\u001b[0m\u001b[0;36m10\u001b[0m\u001b[0;34m,\u001b[0m \u001b[0;36m100\u001b[0m\u001b[0;34m,\u001b[0m \u001b[0;36m1\u001b[0m\u001b[0;34m)\u001b[0m\u001b[0;34m\u001b[0m\u001b[0m\n",
        "\u001b[0;31mNameError\u001b[0m: global name 'skimage' is not defined"
       ]
      }
     ],
     "prompt_number": 3
    },
    {
     "cell_type": "code",
     "collapsed": false,
     "input": [],
     "language": "python",
     "metadata": {},
     "outputs": []
    }
   ],
   "metadata": {}
  }
 ]
}
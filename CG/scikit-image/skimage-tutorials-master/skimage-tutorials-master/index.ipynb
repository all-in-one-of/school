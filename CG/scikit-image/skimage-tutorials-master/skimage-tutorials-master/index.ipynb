{
 "metadata": {
  "kernelspec": {
   "codemirror_mode": {
    "name": "python",
    "version": 2
   },
   "display_name": "Python 2",
   "language": "python",
   "name": "python2"
  },
  "name": "",
  "signature": "sha256:1c6c25a709f87eb1ef21876d7aabd292e71f22d29aeecce7b2491c310572e8e0"
 },
 "nbformat": 3,
 "nbformat_minor": 0,
 "worksheets": [
  {
   "cells": [
    {
     "cell_type": "markdown",
     "metadata": {},
     "source": [
      "# Lectures\n",
      "\n",
      "See the [full list of lectures](lectures/)."
     ]
    },
    {
     "cell_type": "markdown",
     "metadata": {},
     "source": [
      "# Conferences\n",
      "\n",
      "- [SciPy 2014](2014-scipy/000_index.ipynb)\n",
      "- [EuroSciPy 2014](2014-euroscipy/index.ipynb)"
     ]
    },
    {
     "cell_type": "markdown",
     "metadata": {},
     "source": [
      "# More demos and examples\n",
      "\n",
      "Refer to [the gallery](http://scikit-image.org/docs/dev/auto_examples/) as\n",
      "well as [scikit-image demos](https://github.com/scikit-image/skimage-demos)\n",
      "for more examples."
     ]
    }
   ],
   "metadata": {}
  }
 ]
}